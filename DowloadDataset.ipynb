{
 "cells": [
  {
   "cell_type": "markdown",
   "metadata": {},
   "source": [
    "### Preuzimanje dataseta"
   ]
  },
  {
   "cell_type": "markdown",
   "metadata": {},
   "source": [
    "Instaliranje potrebnih biblioteka"
   ]
  },
  {
   "cell_type": "code",
   "execution_count": null,
   "metadata": {},
   "outputs": [],
   "source": [
    "pip install --upgrade pip"
   ]
  },
  {
   "cell_type": "code",
   "execution_count": null,
   "metadata": {},
   "outputs": [],
   "source": [
    "!pip install tensorflow torch torchvision umap-learn"
   ]
  },
  {
   "cell_type": "code",
   "execution_count": null,
   "metadata": {},
   "outputs": [],
   "source": [
    "!pip install tensorflow_datasets"
   ]
  },
  {
   "cell_type": "code",
   "execution_count": null,
   "metadata": {},
   "outputs": [],
   "source": [
    "!pip install fiftyone"
   ]
  },
  {
   "cell_type": "code",
   "execution_count": null,
   "metadata": {},
   "outputs": [],
   "source": [
    "!pip install \"fiftyone[desktop]\""
   ]
  },
  {
   "cell_type": "code",
   "execution_count": null,
   "metadata": {},
   "outputs": [],
   "source": [
    "pip install ultralytics"
   ]
  },
  {
   "cell_type": "code",
   "execution_count": 1,
   "metadata": {},
   "outputs": [],
   "source": [
    "from ultralytics import YOLO\n",
    "import tensorflow as tf\n",
    "from pathlib import Path\n",
    "from tqdm import tqdm\n",
    "import shutil"
   ]
  },
  {
   "cell_type": "markdown",
   "metadata": {},
   "source": [
    "Podskup slika iz OpenImagesv7 preuzet je korištenjem FiftyOne. "
   ]
  },
  {
   "cell_type": "code",
   "execution_count": 4,
   "metadata": {},
   "outputs": [],
   "source": [
    "import fiftyone as fo\n",
    "import fiftyone.zoo as foz\n",
    "from fiftyone import ViewField as F"
   ]
  },
  {
   "cell_type": "markdown",
   "metadata": {},
   "source": [
    "Zbog smanjenja potrebnih resursa za preuzimanje i kasnije treniranje modela, preuzet je manji skup podataka, ukupno 100 slika. Skup za treniranje sadrži 70 slika, od kojih je 35 slika ovaca, a 35 slika sova. Skup za validaciju i skup za testiranje sadrže svaki po 15 slika."
   ]
  },
  {
   "cell_type": "markdown",
   "metadata": {},
   "source": [
    "Preuzeto je prvo 35 slika ovaca i 35 slika sova odvojeno, kako bi zastupljenost obje klase bila podjednaka. Potom su slike spojene u skup za treniranje. "
   ]
  },
  {
   "cell_type": "code",
   "execution_count": 27,
   "metadata": {},
   "outputs": [
    {
     "name": "stdout",
     "output_type": "stream",
     "text": [
      "Downloading split 'train' to 'C:\\Users\\Ivona\\fiftyone\\open-images-v7\\train' if necessary\n",
      "Necessary images already downloaded\n",
      "Existing download of split 'train' is sufficient\n",
      "Loading 'open-images-v7' split 'train'\n",
      " 100% |███████████████████| 35/35 [993.0ms elapsed, 0s remaining, 35.2 samples/s]     \n",
      "Dataset 'train-dataset' created\n"
     ]
    }
   ],
   "source": [
    "train_dataset = foz.load_zoo_dataset(\n",
    "    \"open-images-v7\",\n",
    "    split=\"train\",\n",
    "    label_types=[\"detections\", \"classifications\"],\n",
    "    classes=[\"Sheep\"],\n",
    "    max_samples=35,\n",
    "    seed=51,\n",
    "    shuffle=True,\n",
    "    dataset_name=\"train-dataset\",\n",
    ")"
   ]
  },
  {
   "cell_type": "code",
   "execution_count": 28,
   "metadata": {},
   "outputs": [
    {
     "name": "stdout",
     "output_type": "stream",
     "text": [
      "Downloading split 'train' to 'C:\\Users\\Ivona\\fiftyone\\open-images-v7\\train' if necessary\n"
     ]
    },
    {
     "name": "stdout",
     "output_type": "stream",
     "text": [
      "Necessary images already downloaded\n",
      "Existing download of split 'train' is sufficient\n",
      "Loading 'open-images-v7' split 'train'\n",
      " 100% |███████████████████| 35/35 [564.3ms elapsed, 0s remaining, 62.3 samples/s]   \n",
      "Dataset 'train-dataset-owls' created\n"
     ]
    }
   ],
   "source": [
    "owl_subset = foz.load_zoo_dataset(\n",
    "    \"open-images-v7\",\n",
    "    split=\"train\",\n",
    "    label_types=[\"detections\", \"classifications\"],\n",
    "    classes=[\"Owl\"],\n",
    "    max_samples=35,\n",
    "    seed=51,\n",
    "    shuffle=True,\n",
    "    dataset_name=\"train-dataset-owls\",\n",
    ")"
   ]
  },
  {
   "cell_type": "code",
   "execution_count": 29,
   "metadata": {},
   "outputs": [],
   "source": [
    "train_dataset.merge_samples(owl_subset)"
   ]
  },
  {
   "cell_type": "code",
   "execution_count": 30,
   "metadata": {},
   "outputs": [
    {
     "name": "stdout",
     "output_type": "stream",
     "text": [
      "Downloading split 'validation' to 'C:\\Users\\Ivona\\fiftyone\\open-images-v7\\validation' if necessary\n",
      "Necessary images already downloaded\n",
      "Existing download of split 'validation' is sufficient\n",
      "Loading 'open-images-v7' split 'validation'\n",
      " 100% |███████████████████| 15/15 [210.8ms elapsed, 0s remaining, 72.2 samples/s]  \n",
      "Dataset 'val-dataset' created\n"
     ]
    }
   ],
   "source": [
    "val_dataset = foz.load_zoo_dataset(\n",
    "    \"open-images-v7\",\n",
    "    split=\"validation\",\n",
    "    label_types=[\"detections\", \"classifications\"],\n",
    "    classes=[\"Sheep\", \"Owl\"],\n",
    "    max_samples=15,\n",
    "    seed=51,\n",
    "    shuffle=True,\n",
    "    dataset_name=\"val-dataset\",\n",
    ")"
   ]
  },
  {
   "cell_type": "code",
   "execution_count": 31,
   "metadata": {},
   "outputs": [
    {
     "name": "stdout",
     "output_type": "stream",
     "text": [
      "Downloading split 'test' to 'C:\\Users\\Ivona\\fiftyone\\open-images-v7\\test' if necessary\n",
      "Necessary images already downloaded\n",
      "Existing download of split 'test' is sufficient\n",
      "Loading 'open-images-v7' split 'test'\n",
      " 100% |███████████████████| 15/15 [645.4ms elapsed, 0s remaining, 23.6 samples/s]      \n",
      "Dataset 'test-dataset' created\n"
     ]
    }
   ],
   "source": [
    "test_dataset = foz.load_zoo_dataset(\n",
    "    \"open-images-v7\",\n",
    "    split=\"test\",\n",
    "    label_types=[\"detections\", \"classifications\"],\n",
    "    classes=[\"Sheep\", \"Owl\"],\n",
    "    max_samples=15,\n",
    "    seed=51,\n",
    "    shuffle=True,\n",
    "    dataset_name=\"test-dataset\",\n",
    ")"
   ]
  },
  {
   "cell_type": "markdown",
   "metadata": {},
   "source": [
    "### Transformacija u YOLO anotaciju"
   ]
  },
  {
   "cell_type": "markdown",
   "metadata": {},
   "source": [
    "Budući da OpenImages i YOLO koriste različitu anotaciju objekata na slikama, potrebno je prilagoditi anotaciju u preuzetom datasetu u format prikladan za YOLO modele. Stvorena su tri nova direktorija za YOLO anotacije skupova za treniranje, validaciju i testiranje. Osim toga, stvorena je i config.yaml datoteka koja se pri treniranju modela šalje kao ulazni parametar i naznačava skupove za treniranje i validaciju."
   ]
  },
  {
   "cell_type": "markdown",
   "metadata": {},
   "source": [
    "Transformacija skupa za treniranje"
   ]
  },
  {
   "cell_type": "code",
   "execution_count": 61,
   "metadata": {},
   "outputs": [],
   "source": [
    "output_dir = Path(\"yolo_train_dataset\")\n",
    "output_dir.mkdir(exist_ok=True) "
   ]
  },
  {
   "cell_type": "code",
   "execution_count": 62,
   "metadata": {},
   "outputs": [
    {
     "name": "stderr",
     "output_type": "stream",
     "text": [
      "100%|██████████| 70/70 [00:00<00:00, 178.61it/s]\n"
     ]
    }
   ],
   "source": [
    "for sample in tqdm(train_dataset):\n",
    "    img_path = sample.filepath\n",
    "    img_filename = Path(img_path).name\n",
    "    yolo_labels_path = output_dir / (Path(img_filename).stem + \".txt\")\n",
    "\n",
    "    with open(yolo_labels_path, \"w\") as f: \n",
    "        d = sample.detections.detections\n",
    "        for el in d: \n",
    "            if el['label'] == 'Sheep': \n",
    "                bbox = el['bounding_box']\n",
    "                x, y, width, height = bbox[0], bbox[1], bbox[2], bbox[3]\n",
    "                x_center = x + width/2\n",
    "                y_center = y + height/2\n",
    "                yolo_label = f\"0 {x_center} {y_center} {width} {height} \\n\"\n",
    "                f.write(yolo_label)\n",
    "            \n",
    "            if el['label']=='Owl':\n",
    "                bbox = el['bounding_box']\n",
    "                x, y, width, height = bbox[0], bbox[1], bbox[2], bbox[3]\n",
    "                x_center= x + width/2\n",
    "                y_center = y + height/2\n",
    "                yolo_label = f\"1 {x_center} {y_center} {width} {height} \\n\"\n",
    "                f.write(yolo_label)\n",
    "            \n",
    "    shutil.copy(img_path, output_dir / img_filename)"
   ]
  },
  {
   "cell_type": "markdown",
   "metadata": {},
   "source": [
    "Transformacija skupa za validaciju"
   ]
  },
  {
   "cell_type": "code",
   "execution_count": 63,
   "metadata": {},
   "outputs": [],
   "source": [
    "output_dir = Path(\"yolo_val_dataset\")\n",
    "output_dir.mkdir(exist_ok=True) "
   ]
  },
  {
   "cell_type": "code",
   "execution_count": 64,
   "metadata": {},
   "outputs": [
    {
     "name": "stderr",
     "output_type": "stream",
     "text": [
      "100%|██████████| 15/15 [00:00<00:00, 125.43it/s]\n"
     ]
    }
   ],
   "source": [
    "for sample in tqdm(val_dataset):\n",
    "    img_path = sample.filepath\n",
    "    img_filename = Path(img_path).name\n",
    "    yolo_labels_path = output_dir / (Path(img_filename).stem + \".txt\")\n",
    "\n",
    "    with open(yolo_labels_path, \"w\") as f: \n",
    "        d = sample.detections.detections\n",
    "        for el in d: \n",
    "            if el['label'] == 'Sheep': \n",
    "                bbox = el['bounding_box']\n",
    "                x, y, width, height = bbox[0], bbox[1], bbox[2], bbox[3]\n",
    "                x_center = x + width/2\n",
    "                y_center = y + height/2\n",
    "                yolo_label = f\"0 {x_center} {y_center} {width} {height} \\n\"\n",
    "                f.write(yolo_label)\n",
    "            \n",
    "            if el['label']=='Owl':\n",
    "                bbox = el['bounding_box']\n",
    "                x, y, width, height = bbox[0], bbox[1], bbox[2], bbox[3]\n",
    "                x_center= x + width/2\n",
    "                y_center = y + height/2\n",
    "                yolo_label = f\"1 {x_center} {y_center} {width} {height} \\n\"\n",
    "                f.write(yolo_label)\n",
    "            \n",
    "    shutil.copy(img_path, output_dir / img_filename)"
   ]
  },
  {
   "cell_type": "markdown",
   "metadata": {},
   "source": [
    "Transformacija skupa za testiranje"
   ]
  },
  {
   "cell_type": "code",
   "execution_count": 65,
   "metadata": {},
   "outputs": [],
   "source": [
    "output_dir = Path(\"yolo_test_dataset\")\n",
    "output_dir.mkdir(exist_ok=True) "
   ]
  },
  {
   "cell_type": "code",
   "execution_count": 66,
   "metadata": {},
   "outputs": [
    {
     "name": "stderr",
     "output_type": "stream",
     "text": [
      "100%|██████████| 15/15 [00:00<00:00, 99.99it/s]\n"
     ]
    }
   ],
   "source": [
    "for sample in tqdm(test_dataset):\n",
    "    img_path = sample.filepath\n",
    "    img_filename = Path(img_path).name\n",
    "    yolo_labels_path = output_dir / (Path(img_filename).stem + \".txt\")\n",
    "\n",
    "    with open(yolo_labels_path, \"w\") as f: \n",
    "        d = sample.detections.detections\n",
    "        for el in d: \n",
    "            if el['label'] == 'Sheep': \n",
    "                bbox = el['bounding_box']\n",
    "                x, y, width, height = bbox[0], bbox[1], bbox[2], bbox[3]\n",
    "                x_center = x + width/2\n",
    "                y_center = y + height/2\n",
    "                yolo_label = f\"0 {x_center} {y_center} {width} {height} \\n\"\n",
    "                f.write(yolo_label)\n",
    "            \n",
    "            if el['label']=='Owl':\n",
    "                bbox = el['bounding_box']\n",
    "                x, y, width, height = bbox[0], bbox[1], bbox[2], bbox[3]\n",
    "                x_center= x + width/2\n",
    "                y_center = y + height/2\n",
    "                yolo_label = f\"1 {x_center} {y_center} {width} {height} \\n\"\n",
    "                f.write(yolo_label)\n",
    "            \n",
    "    shutil.copy(img_path, output_dir / img_filename)"
   ]
  },
  {
   "cell_type": "markdown",
   "metadata": {},
   "source": [
    "Za bilo koju sliku iz dataseta, može se pristupiti nizu detektiranih objekata u slici te za svaki objekt ispisati koordinate i labelu."
   ]
  },
  {
   "cell_type": "code",
   "execution_count": 67,
   "metadata": {},
   "outputs": [
    {
     "name": "stderr",
     "output_type": "stream",
     "text": [
      "100%|██████████| 15/15 [00:00<00:00, 135.29it/s]"
     ]
    },
    {
     "name": "stdout",
     "output_type": "stream",
     "text": [
      "Sheep [0.29941002, 0.15265487, 0.6991150800000001, 0.84292038]\n",
      "Goat [0.30678466, 0.15265487, 0.6932153400000001, 0.84734513]\n",
      "Owl [0.42097488, 0.08388521, 0.36779912, 0.8741721899999999]\n",
      "Owl [0.06776181, 0.028616853, 0.7720738899999999, 0.879173247]\n",
      "Sheep [0.184375, 0.21041666, 0.6296875, 0.6041667]\n",
      "Sheep [0.4875, 0.097765364, 0.5125, 0.810055876]\n",
      "Pig [0.0, 0.4441341, 0.4975, 0.4804469]\n",
      "Hat [0.44103393, 0.16565657, 0.18093696999999997, 0.29898989]\n",
      "Human face [0.5024233, 0.22222222, 0.05977379999999999, 0.08080807999999998]\n",
      "Human hair [0.46688208, 0.22020201, 0.11308562, 0.09696970999999999]\n",
      "Sheep [0.42326334, 0.42828283, 0.29402259, 0.44646463000000003]\n",
      "Human leg [0.11308562, 0.25454545, 0.16962845, 0.5090908999999999]\n",
      "Human leg [0.31340873, 0.25454545, 0.11308562999999999, 0.5131313500000001]\n",
      "Human leg [0.4394184, 0.5090909, 0.11147014, 0.2888889]\n",
      "Human leg [0.58966076, 0.45858586, 0.07754439000000002, 0.27070704]\n",
      "Fashion accessory [0.46849757, 0.7191919, 0.05492729000000002, 0.09292929999999999]\n",
      "Fashion accessory [0.6510501, 0.65252525, 0.019386100000000073, 0.08282825000000005]\n",
      "Jeans [0.11954766, 0.23838384, 0.30210016, 0.51313131]\n",
      "Sun hat [0.4555735, 0.16969697, 0.16478189999999998, 0.25656565]\n",
      "Person [0.11631664, 0.0, 0.36995152, 0.76969695]\n",
      "Person [0.42164782, 0.16565657, 0.24878838000000003, 0.64444446]\n",
      "Human nose [0.53311795, 0.24646464, 0.01615505000000006, 0.01818183000000001]\n",
      "Clothing [0.11631664, 0.0, 0.31340871000000003, 0.75555557]\n",
      "Clothing [0.4361874, 0.29090908, 0.22132470000000004, 0.33737376999999996]\n",
      "Clothing [0.5201939, 0.0, 0.11147010000000002, 0.27272728]\n",
      "Human head [0.45718902, 0.16969697, 0.16316638, 0.14949496]\n",
      "Mammal [0.11308562, 0.0, 0.37318254, 0.7737374]\n",
      "Mammal [0.42487884, 0.17171717, 0.24878836000000004, 0.64242423]\n",
      "Footwear [0.11631664, 0.7111111, 0.04684975999999999, 0.05656570000000005]\n",
      "Footwear [0.37156704, 0.74949497, 0.04684975999999996, 0.026262580000000035]\n",
      "Footwear [0.46849757, 0.7191919, 0.061389330000000075, 0.09292929999999999]\n",
      "Footwear [0.6542811, 0.65858585, 0.021001600000000065, 0.07676764999999997]\n",
      "Sheep [0.062038403, 0.06622516, 0.7016248270000001, 0.93156734]\n",
      "Goat [0.06646972, 0.06622516, 0.70014768, 0.93377484]\n",
      "Sheep [0.030927835, 0.33924612, 0.048600884999999996, 0.10421285000000002]\n",
      "Sheep [0.5994109, 0.4345898, 0.08689250000000004, 0.14634144999999998]\n",
      "Sheep [0.67746687, 0.5232816, 0.0250368299999999, 0.06430150000000001]\n",
      "Sheep [0.6980854, 0.5099778, 0.03092786000000003, 0.07095344999999997]\n",
      "Sheep [0.9513991, 0.43015522, 0.04860089999999995, 0.04212857999999997]\n",
      "Animal [0.033873342, 0.3503326, 0.04418261799999999, 0.09090908000000003]\n",
      "Animal [0.67746687, 0.52771616, 0.03534609, 0.06208424000000001]\n",
      "Animal [0.70397645, 0.5099778, 0.02356405000000006, 0.07095344999999997]\n",
      "Animal [0.86008835, 0.44789356, 0.01767305000000008, 0.015521079999999965]\n",
      "Animal [0.8792342, 0.45011085, 0.016200240000000088, 0.013303789999999982]\n",
      "Animal [0.9057437, 0.45232815, 0.017673099999999997, 0.013303780000000043]\n",
      "Animal [0.95434463, 0.4323725, 0.04565536999999997, 0.033259430000000034]\n",
      "Cattle [0.02945508, 0.34146342, 0.0544919, 0.10643014]\n",
      "Cattle [0.5994109, 0.42350334, 0.08541969999999999, 0.15742791]\n",
      "Cattle [0.67746687, 0.5166297, 0.0368188599999999, 0.07095340000000006]\n",
      "Cattle [0.6951399, 0.50110865, 0.035346139999999915, 0.07982259999999997]\n",
      "Cattle [0.85714287, 0.44124168, 0.023564029999999958, 0.017738369999999948]\n",
      "Cattle [0.8718704, 0.44789356, 0.02503679999999997, 0.017738370000000003]\n",
      "Cattle [0.90132546, 0.44124168, 0.022091340000000015, 0.024390250000000002]\n",
      "Cattle [0.95287186, 0.42793792, 0.04565533999999993, 0.04434587999999995]\n",
      "Tree [0.0, 0.09312639, 0.0736377, 0.31263858]\n",
      "Tree [0.060382918, 0.29933482, 0.044182622, 0.07760530999999998]\n",
      "Tree [0.11487482, 0.29268292, 0.04418261999999999, 0.09534367999999999]\n",
      "Tree [0.15169367, 0.23059867, 0.09278349999999999, 0.16851443]\n",
      "Tree [0.2562592, 0.2660754, 0.0486009, 0.06430154999999999]\n",
      "Tree [0.2783505, 0.20177384, 0.10162005000000002, 0.20620841999999998]\n",
      "Tree [0.39469808, 0.20842572, 0.13991166000000005, 0.23281596000000002]\n",
      "Tree [0.48306334, 0.32150775, 0.08247425999999997, 0.11751665]\n",
      "Tree [0.5714286, 0.08869179, 0.19440350000000006, 0.23059867]\n",
      "Tree [0.57879233, 0.35254988, 0.05007362999999998, 0.08869180000000004]\n",
      "Tree [0.62886596, 0.33037695, 0.06774670000000005, 0.12195119999999998]\n",
      "Tree [0.7378498, 0.27272728, 0.053019139999999965, 0.11086471999999997]\n",
      "Tree [0.7849779, 0.37915742, 0.03976435999999994, 0.05543238]\n",
      "Tree [0.9234168, 0.06430155, 0.07511039999999991, 0.2682927]\n",
      "Plant [0.0, 0.061946902, 1.0, 0.938053098]\n",
      "Sheep [0.06637168, 0.35176992, 0.17699114999999999, 0.42920350999999995]\n",
      "Sheep [0.25368732, 0.36504424, 0.14306784, 0.43141591]\n",
      "Sheep [0.29498526, 0.34070796, 0.12241885999999996, 0.32300884]\n",
      "Sheep [0.42772862, 0.33628318, 0.18141595, 0.37610621999999994]\n",
      "Sheep [0.59144545, 0.36504424, 0.06784658999999993, 0.32079645999999995]\n",
      "Sheep [0.61504424, 0.3539823, 0.14601772999999996, 0.33407079999999995]\n",
      "Sheep [0.6961652, 0.27433628, 0.10029495, 0.25000002]\n",
      "Sheep [0.76843655, 0.26327434, 0.16076694999999996, 0.44247786000000006]\n",
      "Mammal [0.06637168, 0.26106194, 0.85840708, 0.53982302]\n",
      "Plant [0.0014749262, 0.0022123894, 0.9955752438, 0.9933628606]\n",
      "Sheep [0.025073746, 0.33628318, 0.960176954, 0.23893805999999995]\n",
      "Cattle [0.025073746, 0.44690266, 0.143067844, 0.12389384000000003]\n",
      "Cattle [0.045722716, 0.41150442, 0.125368734, 0.11725668]\n",
      "Cattle [0.33333334, 0.4159292, 0.12684366000000002, 0.10840709999999998]\n",
      "Cattle [0.49557522, 0.35176992, 0.08259588000000007, 0.09955752000000001]\n",
      "Cattle [0.59144545, 0.38053098, 0.11356931999999997, 0.13274331999999994]\n",
      "Cattle [0.6932153, 0.3561947, 0.09292040000000001, 0.11061946]\n",
      "Cattle [0.8716814, 0.32964602, 0.11061949999999998, 0.12168142000000004]\n",
      "Sheep [0.0, 0.47111112, 0.029325513, 0.09999997999999999]\n",
      "Sheep [0.08651026, 0.5, 0.09824047999999999, 0.12]\n",
      "Sheep [0.3973607, 0.48666668, 0.6026393, 0.49111112]\n",
      "Person [0.3431085, 0.37333333, 0.1744868, 0.42000002000000003]\n",
      "Mammal [0.0, 0.37333333, 1.0, 0.60888887]\n",
      "Cattle [0.0, 0.46444446, 0.032258064, 0.10888884000000004]\n",
      "Cattle [0.079178885, 0.49333334, 0.108504395, 0.13111106]\n",
      "Cattle [0.38709676, 0.48, 0.38123164000000004, 0.36444445000000003]\n",
      "Cattle [0.7521994, 0.6333333, 0.2463343, 0.35555556]\n",
      "Cattle [0.7917889, 0.55777776, 0.20674479999999995, 0.17111111]\n",
      "Tree [0.0, 0.0, 0.99791664, 0.7953125]\n",
      "Owl [0.23125, 0.19375, 0.58125, 0.80625]\n",
      "Sheep [0.0, 0.32300884, 1.0, 0.36283185999999995]\n",
      "Tree [0.0, 0.0, 0.20943953, 0.34513274]\n",
      "Tree [0.12684366, 0.092920355, 0.19616518000000002, 0.267699105]\n",
      "Tree [0.20648968, 0.046460178, 0.1238938, 0.241150442]\n",
      "Tree [0.30678466, 0.23672566, 0.05604720000000002, 0.19469026]\n",
      "Tree [0.32300884, 0.15486726, 0.10914456, 0.26548672]\n",
      "Tree [0.38053098, 0.15265487, 0.08112093999999997, 0.24336282999999997]\n",
      "Tree [0.44690266, 0.119469024, 0.10471973999999995, 0.294247796]\n",
      "Tree [0.46165192, 0.19469027, 0.02359882000000002, 0.08849557000000002]\n",
      "Tree [0.4778761, 0.06637168, 0.08259585000000003, 0.11283185999999999]\n",
      "Tree [0.53687316, 0.11061947, 0.07227141000000004, 0.30973451]\n",
      "Tree [0.5575221, 0.03982301, 0.10619469999999998, 0.17035398000000002]\n",
      "Tree [0.5855457, 0.086283185, 0.1342183, 0.33407079500000003]\n",
      "Tree [0.6578171, 0.015486726, 0.08112092999999998, 0.40929203399999997]\n",
      "Tree [0.7300885, 0.0, 0.11209439999999993, 0.43362832]\n",
      "Tree [0.7817109, 0.1659292, 0.10619469999999998, 0.2699115]\n",
      "Tree [0.84513277, 0.0, 0.15339233000000008, 0.26548672]\n",
      "Tree [0.8879056, 0.028761063, 0.08554570000000006, 0.272123897]\n",
      "Tree [0.92330384, 0.20353982, 0.07522126000000007, 0.21902656]\n",
      "Owl [0.175, 0.11529934, 0.50735296, 0.83370286]\n",
      "Sheep [0.104761906, 0.09592326, 0.877550994, 0.90407674]\n"
     ]
    },
    {
     "name": "stderr",
     "output_type": "stream",
     "text": [
      "\n"
     ]
    }
   ],
   "source": [
    "for sample in tqdm(test_dataset):\n",
    "    d = sample.detections.detections \n",
    "    for el in d:\n",
    "        print(str(el['label']) + \" \" +str(el['bounding_box']))"
   ]
  }
 ],
 "metadata": {
  "kernelspec": {
   "display_name": "Python 3",
   "language": "python",
   "name": "python3"
  },
  "language_info": {
   "codemirror_mode": {
    "name": "ipython",
    "version": 3
   },
   "file_extension": ".py",
   "mimetype": "text/x-python",
   "name": "python",
   "nbconvert_exporter": "python",
   "pygments_lexer": "ipython3",
   "version": "3.11.8"
  }
 },
 "nbformat": 4,
 "nbformat_minor": 2
}
